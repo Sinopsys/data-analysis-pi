{
 "cells": [
  {
   "cell_type": "markdown",
   "metadata": {},
   "source": [
    "# Data Analysis for Software Engineers\n",
    "\n",
    "## Practical Assignment 3\n",
    "## Linear classification"
   ]
  },
  {
   "cell_type": "markdown",
   "metadata": {},
   "source": [
    "<hr\\>\n",
    "**General Information**\n",
    "\n",
    "**Due date:** 11 March 2018, 23:59 <br\\>\n",
    "**Submission link:** [here](https://www.dropbox.com/request/7TLjmvTYqgdn5KYUDCLK)\n",
    "\n",
    "Add your name to this notebook's title<br\\>\n",
    "<hr\\>\n",
    "\n",
    "Take in to account that some tasks may not have rigorous and comprehensive solution.<br\\>\n",
    "Support your code with comments and illustation if needed. The more conclusions, derivations and explanations you provide - the better. <br\\>\n"
   ]
  },
  {
   "cell_type": "code",
   "execution_count": 1,
   "metadata": {},
   "outputs": [],
   "source": [
    "import numpy as np\n",
    "import pandas as pd\n",
    "import matplotlib.pyplot as plt\n",
    "\n",
    "%matplotlib inline\n",
    "\n",
    "plt.style.use('ggplot')\n",
    "plt.rcParams['figure.figsize'] = (12,8)"
   ]
  },
  {
   "cell_type": "markdown",
   "metadata": {},
   "source": [
    "## (Stochastic) Gradient Descent"
   ]
  },
  {
   "cell_type": "markdown",
   "metadata": {},
   "source": [
    "Consider the logistic regression method for binary classification. \n",
    "\n",
    "In this part you need to implement the following algorithms for log-loss optimization\n",
    "* gradient descent (GD) \n",
    "* either stochastic gradient descent (SGD) or mini-batch stochastic gradient descent (mini-batch SGD) \n",
    "\n",
    "In these three methods a gradient of a loss function $L(w) = \\frac{1}{N}\\sum_i^N l_i(w)$ is obtained differently:\n",
    "\n",
    "* In GD the whole training dataset is used: $\\nabla_wL(w) = \\nabla_w\\frac{1}{N}\\sum_i l_i(w)$\n",
    "\n",
    "* In SGD only one random training object $i$ is used for gradient estimation: $\\nabla_wL(w) \\approx \\nabla_w l_i(w)$. So one **epoch** in SGD proceeds as follows:\n",
    "    * Shuffle training dataset\n",
    "    * Iterate over dataset objects one by one perform gradient step\n",
    "\n",
    "* In mini-batch SGD gradient is estimated on small random subsample (mini-batch) of training dataset: $\\nabla_wL(w) = \\nabla_w\\frac{1}{M}\\sum_i^M l_i(w)$. So one **epoch** in mini-batch SGD proceeds as follows:\n",
    "    * Shuffle training dataset\n",
    "    * Split dataset into (almost-)equal mini-batches of small size M\n",
    "    * Iterate over batches and perform gradient steps"
   ]
  },
  {
   "cell_type": "markdown",
   "metadata": {},
   "source": [
    "## Sorting Hat in action"
   ]
  },
  {
   "cell_type": "markdown",
   "metadata": {},
   "source": [
    "<center><img src='https://static1.squarespace.com/static/571a6e39b6aa608067028725/t/577988518419c2d62fb5922f/1467582555915/'></center>"
   ]
  },
  {
   "cell_type": "markdown",
   "metadata": {},
   "source": [
    "Put your last name in russian in the field below"
   ]
  },
  {
   "cell_type": "code",
   "execution_count": 2,
   "metadata": {},
   "outputs": [
    {
     "name": "stdout",
     "output_type": "stream",
     "text": [
      "Implement GD and Mini Batch SGD\n"
     ]
    }
   ],
   "source": [
    "USER_NAME = u\"Куприянов\".lower()\n",
    "ALGORITHM = [\"SGD\", \"Mini Batch SGD\"]\n",
    "\n",
    "print \"Implement GD and {}\".format(    \n",
    "    ALGORITHM[hash(USER_NAME[::-1]) % 2]\n",
    ")"
   ]
  },
  {
   "cell_type": "markdown",
   "metadata": {},
   "source": [
    "## Elastic Net Loss (1 point)"
   ]
  },
  {
   "cell_type": "markdown",
   "metadata": {},
   "source": [
    "Consider logistic regression with $L_1$ and $L_2$ regulatizetion - elastic net.\n",
    "\n",
    "$$\n",
    "L(w) = \\frac{1}{N} \\sum_i^N \\ln(1+\\exp(-y_i(w^\\top x_i+w_0)) + \\gamma \\|w\\|_1 + \\beta \\|w\\|_2\n",
    "$$\n",
    "\n",
    "Find its derivative and update rules for gradient descent:"
   ]
  },
  {
   "cell_type": "markdown",
   "metadata": {},
   "source": [
    "Your answer with LaTex:"
   ]
  },
  {
   "cell_type": "code",
   "execution_count": null,
   "metadata": {
    "collapsed": true
   },
   "outputs": [],
   "source": []
  },
  {
   "cell_type": "markdown",
   "metadata": {},
   "source": [
    "# Algorithm Implementation (3 points)"
   ]
  },
  {
   "cell_type": "markdown",
   "metadata": {},
   "source": [
    "Some hints:\n",
    "* Small random numbers from $[−1/2d,1/2d]$ should be chosen for weight initialization.\n",
    "* The efficient step size for GD is approximately $0.01 − 1$.\n",
    "* Step size should be constant for GD and decreasing for SGD, for example, $\\alpha/\\text{epoch_number}$ where $\\alpha$ is some constant\n",
    "*  use [`sklearn.utils.shuffle`](http://scikit-learn.org/stable/modules/generated/sklearn.utils.shuffle.html) to shuffle `X` and `y` in a consistent way\n",
    "* Stopping criteria: for GD use $|L_{old} − L_{new}| < tol$, for SGD simply do a particular number of iterations.\n",
    "* For code efficiency use numpy vectors to compute gradients\n",
    "\n",
    "Additionally:\n",
    "* Implement momentum update (bonus 1 point)"
   ]
  },
  {
   "cell_type": "code",
   "execution_count": 3,
   "metadata": {},
   "outputs": [],
   "source": [
    "from sklearn.base import BaseEstimator, ClassifierMixin"
   ]
  },
  {
   "cell_type": "code",
   "execution_count": null,
   "metadata": {
    "collapsed": true
   },
   "outputs": [],
   "source": [
    "# Class for simple gradient descent\n",
    "class MyVanillaGD(BaseEstimator, ClassifierMixin):\n",
    "    def __init__(alpha=1.0, beta=1.0, gamma=1.0, tol=0.01, max_epoch=1000, random_state=123):\n",
    "        self.alpha = alpha  \n",
    "        self.beta = beta        \n",
    "        self.gamma = gamma\n",
    "        self.tol = tol\n",
    "        self.max_epoch = max_epoch\n",
    "        self.random_state = random_state\n",
    "\n",
    "        # Fill in\n",
    "    \n",
    "    def fit(self, X, y):\n",
    "        is_fast = False\n",
    "        if self.alpha == -1:\n",
    "            is_fast = True\n",
    "        dim = X.shape[0]\n",
    "        X = np.hstack([X, np.ones((dim, 1))])\n",
    "        in_minimum = False\n",
    "        \n",
    "        Q_row = []\n",
    "        \n",
    "        while not in_minimum:\n",
    "            first_loss = function.Value(X, Y, self.coefs)\n",
    "            gradient = function.Gradient(X, Y, self.coefs)\n",
    "            if info:\n",
    "                Q_row.append(first_loss)\n",
    "            \n",
    "            if is_fast:\n",
    "                D = np.dot(X, gradient)\n",
    "                alpha = np.sum((np.dot(X, self.coefs) - Y) * D)\n",
    "                alpha /= np.sum(D ** 2)\n",
    "\n",
    "            self.coefs = self.coefs - alpha * gradient\n",
    "            if abs(function.Value(X, Y, self.coefs) - first_loss) < epsilon:\n",
    "                in_minimum = True\n",
    "        if info:\n",
    "            return np.array(Q_row)\n",
    "\n",
    "\n",
    "\n",
    "    \n",
    "    def predict(self, X):\n",
    "        # Fill in\n",
    "        \n",
    "    def predict_proba(self, X)\n",
    "        # Fill in\n",
    "\n",
    "        \n",
    "# Class for SGD or mini-batch SGD\n",
    "class MySGD(BaseEstimator, ClassifierMixin):\n",
    "    def __init__(alpha=1.0, beta=1.0, gamma=1.0, max_epoch=1000, batch_size=128, random_state=123):\n",
    "        self.alpha = alpha  \n",
    "        self.beta = beta        \n",
    "        self.gamma = gamma\n",
    "        self.tol = tol\n",
    "        self.max_epoch = max_epoch\n",
    "        self.random_state = random_state\n",
    "\n",
    "        # Fill in\n",
    "    \n",
    "    def fit(self, X, y):\n",
    "        # Fill in\n",
    "    \n",
    "    def predict(self, X):\n",
    "        # Fill in\n",
    "        \n",
    "    def predict_proba(self, X)\n",
    "        # Fill in"
   ]
  },
  {
   "cell_type": "markdown",
   "metadata": {},
   "source": [
    "# Checking on simple datasets (1 point)"
   ]
  },
  {
   "cell_type": "markdown",
   "metadata": {},
   "source": [
    "Let's check your models on a toy dataset. Don’t forget to standardize the data and then add a constant feature to it. Use the same random state for GD and SGD\n",
    "\n",
    "Here you should demonstrate the following plots:\n",
    "* plot with data points and decision boundary for each method,\n",
    "* plot of decreasing $L(w)$ for increasing epoch number (for (mini-batch) SGD)."
   ]
  },
  {
   "cell_type": "code",
   "execution_count": null,
   "metadata": {},
   "outputs": [],
   "source": [
    "from sklearn.datasets import make_classification\n",
    "\n",
    "RND_SEED = 123"
   ]
  },
  {
   "cell_type": "code",
   "execution_count": null,
   "metadata": {
    "collapsed": true
   },
   "outputs": [],
   "source": [
    "def get_toy_dataset():\n",
    "    return make_classification(n_samples=1000, n_features=2, class_sep=0.5, \n",
    "                               n_clusters_per_class=1, n_redundant=0, \n",
    "                               shift=4, scale=2, random_state=RND_SEED)\n",
    "\n",
    "def plot_decision_boundary(model, X, y):\n",
    "    fig = plt.figure()\n",
    "    X1min, X2min = X.min(axis=0)\n",
    "    X1max, X2max = X.max(axis=0)\n",
    "    x1, x2 = np.meshgrid(np.linspace(X1min, X1max, 500),\n",
    "                         np.linspace(X2min, X2max, 500))\n",
    "    ypred = model.predict(np.c_[x1.ravel(), x2.ravel()])\n",
    "    ypred = ypred.reshape(x1.shape)\n",
    "    \n",
    "    plt.contourf(x1, x2, ypred, alpha=.4)\n",
    "    plt.scatter(X[:,0], X[:,1], c=y)"
   ]
  },
  {
   "cell_type": "code",
   "execution_count": null,
   "metadata": {
    "collapsed": true
   },
   "outputs": [],
   "source": []
  },
  {
   "cell_type": "markdown",
   "metadata": {},
   "source": [
    "# Regulatization (2 points)"
   ]
  },
  {
   "cell_type": "markdown",
   "metadata": {},
   "source": [
    "#### Task 1"
   ]
  },
  {
   "cell_type": "markdown",
   "metadata": {},
   "source": [
    "* Load the first dataset. Use `pickle.load`. Fit a logistic regression classifier on the training samples. Use GD with different regularizations (without one, only L1, only L2, L1 and L2), use the same random state for all runs. Don’t forget to standardize the data and then add a constant feature to it.\n",
    "* Compare the results of the methods on the train and test data, explain the difference. Demonstrate regularization effect on coefficients.\n"
   ]
  },
  {
   "cell_type": "code",
   "execution_count": null,
   "metadata": {
    "collapsed": true
   },
   "outputs": [],
   "source": []
  },
  {
   "cell_type": "markdown",
   "metadata": {},
   "source": [
    "#### Task 2"
   ]
  },
  {
   "cell_type": "markdown",
   "metadata": {},
   "source": [
    "* Use the resulting weights vector of GD with L1 regularization to determine two the most important features. Fit the logistic classifier only on these two features (+ the constant one) and visualize the decision boundary. Does L1 regularization help you to chose important features?"
   ]
  },
  {
   "cell_type": "code",
   "execution_count": null,
   "metadata": {
    "collapsed": true
   },
   "outputs": [],
   "source": []
  },
  {
   "cell_type": "markdown",
   "metadata": {},
   "source": [
    "# Real Dataset (3 points)"
   ]
  },
  {
   "cell_type": "markdown",
   "metadata": {
    "collapsed": true
   },
   "source": [
    "In this part of the task you will work with the problem of diabetes diagnostics. Load the diabetes dataset using pickle.load."
   ]
  },
  {
   "cell_type": "markdown",
   "metadata": {},
   "source": [
    "This dataset has the following features:\n",
    "1. Number of pregnancies\n",
    "2. Plasma glucose concentration after 2 hours in an oral glucose tolerance test\n",
    "3. Diastolic blood pressure\n",
    "4. Triceps skin fold thickness\n",
    "5. 2-Hour serum insulin\n",
    "6. Body mass index\n",
    "7. Diabetes pedigree function\n",
    "8. Age"
   ]
  },
  {
   "cell_type": "markdown",
   "metadata": {},
   "source": [
    "Class label is equal to 1 if a person has a diabetes and to -1 otherwise."
   ]
  },
  {
   "cell_type": "markdown",
   "metadata": {},
   "source": [
    "#### Task 1\n",
    "\n",
    "Train the logistic regression classifier on this dataset. Use mini-batch SGD without regularization. Don’t\n",
    "forget to standardize the data and then add a constant feature to it."
   ]
  },
  {
   "cell_type": "code",
   "execution_count": null,
   "metadata": {
    "collapsed": true
   },
   "outputs": [],
   "source": []
  },
  {
   "cell_type": "markdown",
   "metadata": {},
   "source": [
    "#### Task 2"
   ]
  },
  {
   "cell_type": "markdown",
   "metadata": {},
   "source": [
    "In diagnostic problems false positive and false negative errors actually have different costs. \n",
    "\n",
    "Let’s say, if we make false negative error (don’t detect a condition when it is present), then the patient doesn’t have a necessary treatment and, if we make false positive error (detect a condition when it isn’t present), then the patient simply need to be tested more. \n",
    "\n",
    "Therefore, the cost of false negative error is higher and we care much more about this type of error. Compute a confusion matrix for fitted classifier. \n",
    "\n",
    "How many errors of each type have you got? Compute a false positive and a false negative rates for this classifier. Why are they so different?\n",
    "\n",
    "Useful functions: `sklearn.metrics.confusion_matrix`."
   ]
  },
  {
   "cell_type": "code",
   "execution_count": null,
   "metadata": {
    "collapsed": true
   },
   "outputs": [],
   "source": []
  },
  {
   "cell_type": "markdown",
   "metadata": {},
   "source": [
    "#### Task 3"
   ]
  },
  {
   "cell_type": "markdown",
   "metadata": {},
   "source": [
    "To change the proportion of errors of different types you can change a threshold a at the prediction\n",
    "rule $y = \\sigma(w^\\top x + w_0) > a$, where $a \\in [0, 1]$.\n",
    "\n",
    "Show the ROC-curve of the fitted classifier and a point on it which corresponds to $a = 0.5$ (the one you\n",
    "computed at the previous step). \n",
    "\n",
    "Using ROC-curve choose a so that false negative rate is less than $20%$ while false positive rate is still small. What accuracy and false positive rate does the final algorithm have?\n",
    "\n",
    "Useful functions: `sklearn.metrics.roc_curve`."
   ]
  },
  {
   "cell_type": "code",
   "execution_count": null,
   "metadata": {
    "collapsed": true
   },
   "outputs": [],
   "source": []
  }
 ],
 "metadata": {
  "anaconda-cloud": {},
  "kernelspec": {
   "display_name": "Python 2",
   "language": "python",
   "name": "python2"
  },
  "language_info": {
   "codemirror_mode": {
    "name": "ipython",
    "version": 2
   },
   "file_extension": ".py",
   "mimetype": "text/x-python",
   "name": "python",
   "nbconvert_exporter": "python",
   "pygments_lexer": "ipython2",
   "version": "2.7.14"
  },
  "toc": {
   "colors": {
    "hover_highlight": "#DAA520",
    "navigate_num": "#000000",
    "navigate_text": "#333333",
    "running_highlight": "#FF0000",
    "selected_highlight": "#FFD700",
    "sidebar_border": "#EEEEEE",
    "wrapper_background": "#FFFFFF"
   },
   "moveMenuLeft": true,
   "nav_menu": {
    "height": "235px",
    "width": "253px"
   },
   "navigate_menu": true,
   "number_sections": false,
   "sideBar": true,
   "threshold": 4,
   "toc_cell": false,
   "toc_section_display": "block",
   "toc_window_display": true,
   "widenNotebook": false
  }
 },
 "nbformat": 4,
 "nbformat_minor": 2
}
