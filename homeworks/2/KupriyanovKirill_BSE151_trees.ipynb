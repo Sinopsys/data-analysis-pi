{
 "cells": [
  {
   "cell_type": "markdown",
   "metadata": {},
   "source": [
    "# Data Analysis for Software Engineers\n",
    "\n",
    "## Practical Assignment 2\n",
    "## Decision trees"
   ]
  },
  {
   "cell_type": "markdown",
   "metadata": {},
   "source": [
    "<hr\\>\n",
    "**General Information**\n",
    "\n",
    "**Due date:** 17 February 2018, 23:59 <br\\>\n",
    "**Submission link:** [here](https://www.dropbox.com/request/HLKn1AOAohYOCgu6NG6i)\n",
    "\n",
    "**Kupriyanov Kirill, BSE 151**<br\\>\n",
    "<hr\\>\n",
    "\n",
    "Take in to account that some tasks may not have rigorous and comprehensive solution.<br\\>\n",
    "Support your code with comments and illustation if needed. The more conclusions, derivations and explanations you provide - the better. <br\\>\n"
   ]
  },
  {
   "cell_type": "code",
   "execution_count": 1,
   "metadata": {},
   "outputs": [],
   "source": [
    "import numpy as np\n",
    "import pandas as pd\n",
    "import matplotlib.pyplot as plt\n",
    "from scipy.stats.mstats import mquantiles\n",
    "from sklearn.base import BaseEstimator, ClassifierMixin\n",
    "\n",
    "%matplotlib inline\n",
    "\n",
    "plt.style.use('ggplot')\n",
    "plt.rcParams['figure.figsize'] = (12,8)"
   ]
  },
  {
   "cell_type": "markdown",
   "metadata": {},
   "source": [
    "# Decision Tree implementation (4 points + 1 bonus)\n",
    "\n",
    "To complete this task you have to implement decision tree algorithm for classification task. Key features:\n",
    "* Sklearn estimator interface (`fit`, `predict` and `predict_proba` methods)\n",
    "* During threshold seach implement exastive and histogram-based approaches\n",
    "    * In exastive approach all intermediate values of features are considered as candidates for threshold\n",
    "    * In histogram-based approach you consider only borders of histogram, say, with 20 bins (see `numpy.percentile()`)\n",
    "* Structural hyperparameters: `max_depth` and `min_samples_leaf`. You can implement more if you wish\n",
    "* Impurity functions: Gini, Classification error, Entropy\n",
    "* Tree visualization: method to convert your tree to .dot format for graphvis and plot it\n",
    "* Featuer importances (1 bonus point)"
   ]
  },
  {
   "cell_type": "markdown",
   "metadata": {},
   "source": [
    "Врееееееееееееееееееееееееееееемяяяяяяя..\n",
    "\n",
    "Сделал только частично."
   ]
  },
  {
   "cell_type": "code",
   "execution_count": 2,
   "metadata": {},
   "outputs": [],
   "source": [
    "class Tree:\n",
    "    pass\n",
    "\n",
    "\n",
    "class Leaf(Tree):\n",
    "    def __init__(self, label):\n",
    "        self.label = label\n",
    "\n",
    "        \n",
    "class Node(Tree):\n",
    "    def __init__(self,feature, threshold, left, right):\n",
    "        self.left = left\n",
    "        self.right = right\n",
    "        self.feature = feature\n",
    "        self.threshold = threshold"
   ]
  },
  {
   "cell_type": "code",
   "execution_count": 3,
   "metadata": {},
   "outputs": [],
   "source": [
    "example_tree = Node(1, -3, Node(3, 10, Leaf(2), Leaf(1)), Leaf(3))"
   ]
  },
  {
   "cell_type": "code",
   "execution_count": 4,
   "metadata": {},
   "outputs": [
    {
     "name": "stdout",
     "output_type": "stream",
     "text": [
      "-3\n",
      "10\n",
      "---\n",
      "2\n",
      "1\n"
     ]
    }
   ],
   "source": [
    "print(example_tree.threshold)\n",
    "print(example_tree.left.threshold)\n",
    "print('---')\n",
    "print(example_tree.left.left.label)\n",
    "print(example_tree.left.right.label)"
   ]
  },
  {
   "cell_type": "code",
   "execution_count": 5,
   "metadata": {},
   "outputs": [],
   "source": [
    "class TreeBuilder:\n",
    "    def build(self, X, y, criterion):\n",
    "#         print(X)\n",
    "#         print(y)\n",
    "        if len(X) == 0 and len(y) == 0:\n",
    "            return\n",
    "        if np.all(y == y[0]):\n",
    "            return Leaf(y[0])\n",
    "\n",
    "        attribute, threshold = self.best_split(X, y, criterion)\n",
    "\n",
    "        left_child = self.build(X[X[:, attribute] < threshold],\n",
    "                                y[X[:, attribute] < threshold],\n",
    "                                criterion)\n",
    "\n",
    "        right_child = self.build(X[X[:, attribute] >= threshold],\n",
    "                                 y[X[:, attribute] >= threshold],\n",
    "                                 criterion)\n",
    "    \n",
    "\n",
    "        return Node(attribute, threshold, left_child, right_child)\n",
    "\n",
    "    def best_split(self, X, y, criterion='gini'):\n",
    "        best_attribute = -1\n",
    "        best_threshold = - 1\n",
    "        best_impurity_loss = 1\n",
    "        for attribute in range(X.shape[1]):\n",
    "            possible_thresholds = np.unique(X[:, attribute])[1:]\n",
    "            for threshold in possible_thresholds:\n",
    "                if criterion is 'gini':\n",
    "                    current_impurity_loss = self.gini(X, y, attribute, threshold)\n",
    "                elif criterion is 'entropy':\n",
    "                    current_impurity_loss = self.entropy(X, y, attribute, threshold)\n",
    "                else:\n",
    "                    raise ValueError(\n",
    "                        '{} is not a valid criterion'.format(criterion))\n",
    "                if current_impurity_loss < best_impurity_loss:\n",
    "                    best_attribute = attribute\n",
    "                    best_threshold = threshold\n",
    "                    best_impurity_loss = current_impurity_loss\n",
    "\n",
    "        return best_attribute, best_threshold\n",
    "\n",
    "    def gini(self, X, y, attribute, threshold):\n",
    "        masks = (X[:, attribute] < threshold, X[:, attribute] >= threshold)\n",
    "        gini_sum = 0\n",
    "        for mask in masks:\n",
    "            counts = np.unique(y[mask], return_counts=True)[1]\n",
    "            proportions = counts / len(y[mask])\n",
    "            gini_impurity = 1 - np.dot(proportions, proportions)\n",
    "            gini_weight = len(y[mask]) / len(y)\n",
    "            gini_sum += gini_weight * gini_impurity\n",
    "        return gini_sum\n",
    "\n",
    "    def entropy(self, X, y, attribute, threshold):\n",
    "        masks = (X[:, attribute] < threshold, X[:, attribute] >= threshold)\n",
    "        entropy_sum = 0\n",
    "        for mask in masks:\n",
    "            counts = np.unique(y[mask], return_counts=True)[1]\n",
    "            proportions = counts / len(y[mask])\n",
    "            conditional_entropy = -np.dot(proportions, np.log2(proportions))\n",
    "            entropy_weight = len(y[mask]) / len(y)\n",
    "            entropy_sum += entropy_weight * conditional_entropy\n",
    "        return entropy_sum"
   ]
  },
  {
   "cell_type": "code",
   "execution_count": 6,
   "metadata": {},
   "outputs": [],
   "source": [
    "class TreeClassifier(TreeBuilder):\n",
    "    def __init__(self):\n",
    "        self.tree_ = None\n",
    "        self.X_train = None\n",
    "        self.y_train = None\n",
    "\n",
    "    def fit(self, X, y, criterion='gini'):\n",
    "        self.X_train = X\n",
    "        self.y_train = y\n",
    "        self.tree_ = self.build(X, y, criterion)\n",
    "\n",
    "    def predict(self, X):\n",
    "        predictions = []\n",
    "        for i in range(len(self.y_train)):\n",
    "            predictions.append('')\n",
    "        predictions = np.array(predictions)\n",
    "        \n",
    "        for i in range(len(X)):\n",
    "            cursor = self.tree_\n",
    "            while isinstance(cursor, Node):\n",
    "                if X[i, cursor.feature] < cursor.threshold:\n",
    "                    cursor = cursor.left\n",
    "                else:\n",
    "                    cursor = cursor.right\n",
    "            if cursor != None:\n",
    "                predictions[i] = cursor.label\n",
    "        return predictions"
   ]
  },
  {
   "cell_type": "code",
   "execution_count": 7,
   "metadata": {},
   "outputs": [],
   "source": [
    "clf = TreeClassifier()"
   ]
  },
  {
   "cell_type": "markdown",
   "metadata": {},
   "source": [
    "# Checking on simple datasets (1 point)"
   ]
  },
  {
   "cell_type": "markdown",
   "metadata": {},
   "source": [
    "Let's check your decision tree on some basic datasets.\n",
    "\n",
    "For each dataset output tree visualization and decision boundary"
   ]
  },
  {
   "cell_type": "code",
   "execution_count": 8,
   "metadata": {},
   "outputs": [],
   "source": [
    "from sklearn.tree import DecisionTreeClassifier"
   ]
  },
  {
   "cell_type": "code",
   "execution_count": 9,
   "metadata": {},
   "outputs": [],
   "source": [
    "from sklearn.datasets import make_circles\n",
    "from sklearn.datasets import make_moons\n",
    "from sklearn.datasets import make_blobs\n",
    "\n",
    "RND_SEED = 4118956"
   ]
  },
  {
   "cell_type": "code",
   "execution_count": null,
   "metadata": {},
   "outputs": [],
   "source": []
  },
  {
   "cell_type": "code",
   "execution_count": 10,
   "metadata": {},
   "outputs": [],
   "source": [
    "def get_circles():\n",
    "    return make_circles(n_samples=1000, shuffle=True, noise=0.1, factor=0.2, random_state=RND_SEED)\n",
    "\n",
    "\n",
    "def get_moons():\n",
    "    return make_moons(n_samples=1000, shuffle=True, noise=0.1, random_state=RND_SEED)\n",
    "\n",
    "\n",
    "def get_blobs():\n",
    "    return make_blobs(n_samples=1000, n_features=2, centers=3, shuffle=True, cluster_std=0.9, random_state=RND_SEED)\n",
    "\n",
    "\n",
    "def plot_decision_boundary(model, X, y):\n",
    "    fig = plt.figure()\n",
    "    X1min, X2min = X.min(axis=0)\n",
    "    X1max, X2max = X.max(axis=0)\n",
    "    x1, x2 = np.meshgrid(np.linspace(X1min, X1max, 500),\n",
    "                         np.linspace(X2min, X2max, 500))\n",
    "    ypred = model.predict(np.c_[x1.ravel(), x2.ravel()])\n",
    "    ypred = ypred.reshape(x1.shape)\n",
    "    \n",
    "    plt.contourf(x1, x2, ypred, alpha=.4)\n",
    "    plt.scatter(X[:,0], X[:,1], c=y)"
   ]
  },
  {
   "cell_type": "markdown",
   "metadata": {},
   "source": [
    "## Circles"
   ]
  },
  {
   "cell_type": "code",
   "execution_count": 11,
   "metadata": {},
   "outputs": [
    {
     "data": {
      "text/plain": [
       "<matplotlib.collections.PathCollection at 0x7fd546fee490>"
      ]
     },
     "execution_count": 11,
     "metadata": {},
     "output_type": "execute_result"
    },
    {
     "data": {
      "image/png": "[encoded data removed]",
      "text/plain": [
       "<matplotlib.figure.Figure at 0x7fd54728ddd0>"
      ]
     },
     "metadata": {},
     "output_type": "display_data"
    }
   ],
   "source": [
    "X, y = get_circles()\n",
    "plt.scatter(X[:, 0], X[:, 1], c=y)"
   ]
  },
  {
   "cell_type": "code",
   "execution_count": 12,
   "metadata": {},
   "outputs": [],
   "source": [
    "model = TreeClassifier()\n",
    "model.fit(X, y)"
   ]
  },
  {
   "cell_type": "code",
   "execution_count": 13,
   "metadata": {},
   "outputs": [
    {
     "data": {
      "text/plain": [
       "0"
      ]
     },
     "execution_count": 13,
     "metadata": {},
     "output_type": "execute_result"
    }
   ],
   "source": [
    "model.tree_.right.feature"
   ]
  },
  {
   "cell_type": "markdown",
   "metadata": {},
   "source": [
    "---\n",
    "Ну, вот и всё. Да, это очень грустно.."
   ]
  },
  {
   "cell_type": "code",
   "execution_count": null,
   "metadata": {},
   "outputs": [],
   "source": [
    "plot_decision_boundary(model, X, y)"
   ]
  },
  {
   "cell_type": "code",
   "execution_count": null,
   "metadata": {},
   "outputs": [],
   "source": [
    "model.plot_tree()"
   ]
  },
  {
   "cell_type": "markdown",
   "metadata": {},
   "source": [
    "## Moons"
   ]
  },
  {
   "cell_type": "code",
   "execution_count": null,
   "metadata": {},
   "outputs": [],
   "source": [
    "X, y = get_moons()\n",
    "plt.scatter(X[:, 0], X[:, 1], c=y)"
   ]
  },
  {
   "cell_type": "code",
   "execution_count": null,
   "metadata": {},
   "outputs": [],
   "source": [
    "model = MyDecisionTree(someparams).fit(X, y)"
   ]
  },
  {
   "cell_type": "code",
   "execution_count": null,
   "metadata": {},
   "outputs": [],
   "source": [
    "plot_decision_boundary(model, X, y)"
   ]
  },
  {
   "cell_type": "code",
   "execution_count": null,
   "metadata": {},
   "outputs": [],
   "source": [
    "model.plot_tree()"
   ]
  },
  {
   "cell_type": "markdown",
   "metadata": {},
   "source": [
    "## Blobs"
   ]
  },
  {
   "cell_type": "code",
   "execution_count": null,
   "metadata": {},
   "outputs": [],
   "source": [
    "X, y = get_blobs()\n",
    "plt.scatter(X[:, 0], X[:, 1], c=y)"
   ]
  },
  {
   "cell_type": "code",
   "execution_count": null,
   "metadata": {},
   "outputs": [],
   "source": [
    "model = MyDecisionTree(someparams).fit(X, y)"
   ]
  },
  {
   "cell_type": "code",
   "execution_count": null,
   "metadata": {},
   "outputs": [],
   "source": [
    "plot_decision_boundary(model, X, y)"
   ]
  },
  {
   "cell_type": "code",
   "execution_count": null,
   "metadata": {},
   "outputs": [],
   "source": [
    "model.plot_tree()"
   ]
  },
  {
   "cell_type": "markdown",
   "metadata": {},
   "source": [
    "# Training speed calculation (1 point)"
   ]
  },
  {
   "cell_type": "code",
   "execution_count": null,
   "metadata": {},
   "outputs": [],
   "source": [
    "from sklearn.datasets import make_classification\n",
    "from time import time"
   ]
  },
  {
   "cell_type": "markdown",
   "metadata": {},
   "source": [
    "Use `make_classification` function to generate datasets. Run the following experiments on trees with maximum depth:\n",
    "* Run decision tree algorithm for datasets with $N \\in \\{100, 500, 1000, 2000, 5000, 10000, 30000\\}$ and $D=20$ features. Plot time (in sec) for each $N$\n",
    "    * Compare exact and histogram theshold estimation\n",
    "    \n",
    "    \n",
    "* Run decision tree algorithm for datasets with $N=1000$ and $D \\in \\{5, 10, 20, 50, 100, 200, 500\\}$ features. Plot time (in sec) for each $D$\n",
    "    * Compare exact and histogram theshold estimation"
   ]
  },
  {
   "cell_type": "code",
   "execution_count": null,
   "metadata": {},
   "outputs": [],
   "source": [
    "X, y = make_classification(n_samples=1000, n_features=20, random_state=RND_SEED)\n",
    "\n",
    "t1 = time()\n",
    "model = MyDecisionTree(splitter='exact').fit(X, y)\n",
    "t2 = time()\n",
    "\n",
    "print('{} seconds passed'.format(t2 - t1))"
   ]
  },
  {
   "cell_type": "markdown",
   "metadata": {},
   "source": [
    "# Real Dataset (4 points)"
   ]
  },
  {
   "cell_type": "markdown",
   "metadata": {},
   "source": [
    "#### Data preparation\n",
    "\n",
    "In this part of the task you should predict whether income of a person exceeds 50K.\n",
    "1. Load the data from `adult_data_small.csv`\n",
    "2. Prepare the data for a classification algorithm: use one-hot encoding for categorical features, encode binary features and target feature \"salary\".\n",
    "3. Split the data into random train and test subsets in proportion 70:30. Don't forget to use random state"
   ]
  },
  {
   "cell_type": "code",
   "execution_count": null,
   "metadata": {},
   "outputs": [],
   "source": [
    "def preproc_dataset(df_input):\n",
    "    df_preproc = df_input.copy()\n",
    "    \n",
    "    # Fill in\n",
    "    \n",
    "    return df_preproc"
   ]
  },
  {
   "cell_type": "markdown",
   "metadata": {},
   "source": [
    "#### Hyperparameter selection"
   ]
  },
  {
   "cell_type": "markdown",
   "metadata": {},
   "source": [
    "What would be the accuracy of the algorithm, which predicts only majority class on test set?"
   ]
  },
  {
   "cell_type": "code",
   "execution_count": null,
   "metadata": {},
   "outputs": [],
   "source": []
  },
  {
   "cell_type": "markdown",
   "metadata": {},
   "source": [
    "Use training set for hyperparameter selection\n",
    "* You should use implemented algorithm\n",
    "* Perform grid-search of `max_depth` and `min_samples_leaf` with Stratified 5-Fold cross-validation. Don't forget to use `random_state`!\n",
    "* Use \"accuracy\" as main quality measure\n",
    "* Pick the best hyperparameter setting"
   ]
  },
  {
   "cell_type": "code",
   "execution_count": null,
   "metadata": {},
   "outputs": [],
   "source": []
  },
  {
   "cell_type": "markdown",
   "metadata": {},
   "source": [
    "* Which features turned out to be the most important?\n",
    "    * If you did not implement feature importance try looking at tree visualization"
   ]
  },
  {
   "cell_type": "code",
   "execution_count": null,
   "metadata": {},
   "outputs": [],
   "source": []
  },
  {
   "cell_type": "markdown",
   "metadata": {},
   "source": [
    "* Apply the best model to test set and calculate accuracy\n",
    "* Compare it with accuracy during cross-validation"
   ]
  },
  {
   "cell_type": "code",
   "execution_count": null,
   "metadata": {},
   "outputs": [],
   "source": []
  }
 ],
 "metadata": {
  "anaconda-cloud": {},
  "kernelspec": {
   "display_name": "Python 2",
   "language": "python",
   "name": "python2"
  },
  "language_info": {
   "codemirror_mode": {
    "name": "ipython",
    "version": 2
   },
   "file_extension": ".py",
   "mimetype": "text/x-python",
   "name": "python",
   "nbconvert_exporter": "python",
   "pygments_lexer": "ipython2",
   "version": "2.7.14"
  },
  "toc": {
   "colors": {
    "hover_highlight": "#DAA520",
    "navigate_num": "#000000",
    "navigate_text": "#333333",
    "running_highlight": "#FF0000",
    "selected_highlight": "#FFD700",
    "sidebar_border": "#EEEEEE",
    "wrapper_background": "#FFFFFF"
   },
   "moveMenuLeft": true,
   "nav_menu": {
    "height": "235px",
    "width": "253px"
   },
   "navigate_menu": true,
   "number_sections": false,
   "sideBar": true,
   "threshold": 4,
   "toc_cell": false,
   "toc_section_display": "block",
   "toc_window_display": true,
   "widenNotebook": false
  }
 },
 "nbformat": 4,
 "nbformat_minor": 2
}
