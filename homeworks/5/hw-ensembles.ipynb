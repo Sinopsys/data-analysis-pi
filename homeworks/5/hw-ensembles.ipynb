{
 "cells": [
  {
   "cell_type": "markdown",
   "metadata": {},
   "source": [
    "# Data Analysis for Software Engineers\n",
    "\n",
    "## Practical Assignment 5\n",
    "## Ensemble Learning"
   ]
  },
  {
   "cell_type": "markdown",
   "metadata": {},
   "source": [
    "<hr\\>\n",
    "**General Information**\n",
    "\n",
    "**Due date:** 20 May 2018, 23:59 <br\\>\n",
    "**Submission link:** [here](https://www.dropbox.com/request/8ZfcRf2dAiGPAH8nL8Zy)\n",
    "\n",
    "Add your name to this notebook's title<br\\>\n",
    "<hr\\>\n",
    "\n",
    "Take in to account that some tasks may not have rigorous and comprehensive solution.<br\\>\n",
    "Support your code with comments and illustation if needed. The more conclusions, derivations and explanations you provide - the better. <br\\>\n"
   ]
  },
  {
   "cell_type": "code",
   "execution_count": 1,
   "metadata": {},
   "outputs": [],
   "source": [
    "import numpy as np\n",
    "import pandas as pd\n",
    "import matplotlib.pyplot as plt\n",
    "from sklearn.preprocessing import LabelEncoder\n",
    "from sklearn.model_selection import train_test_split\n",
    "from sklearn.ensemble import RandomForestRegressor\n",
    "from random import seed\n",
    "\n",
    "%matplotlib inline\n",
    "\n",
    "plt.style.use('ggplot')\n",
    "plt.rcParams['figure.figsize'] = (12,8)"
   ]
  },
  {
   "cell_type": "markdown",
   "metadata": {},
   "source": [
    "# Prepare dataset (1 point)"
   ]
  },
  {
   "cell_type": "markdown",
   "metadata": {},
   "source": [
    "During this task we are going to check some ensemble models on California Housing Dataset. This is going to be regression task, so error metric is set to **RMSE**.\n",
    "\n",
    "Load `housing.csv` dataset. \n",
    "\n",
    "You are going to work mostly with tree-based models, so:\n",
    "* No feature normalization is required \n",
    "* Categorical feature \"`ocean_proximity`\" should be encoded either with labels `(0, 1, 2, 3, 4)` or with OHE.\n",
    "* Features with missing values should be filled with extraordinary values\n",
    "* Target column is \"`median_house_value`\"\n",
    "\n",
    "As a result you should get `np.array` \"`y`\" with target feature and `np.array` \"`X`\" with other features."
   ]
  },
  {
   "cell_type": "code",
   "execution_count": 2,
   "metadata": {},
   "outputs": [],
   "source": [
    "df = pd.read_csv('housing.csv')"
   ]
  },
  {
   "cell_type": "code",
   "execution_count": 3,
   "metadata": {},
   "outputs": [
    {
     "data": {
      "text/html": [
       "<div>\n",
       "<style scoped>\n",
       "    .dataframe tbody tr th:only-of-type {\n",
       "        vertical-align: middle;\n",
       "    }\n",
       "\n",
       "    .dataframe tbody tr th {\n",
       "        vertical-align: top;\n",
       "    }\n",
       "\n",
       "    .dataframe thead th {\n",
       "        text-align: right;\n",
       "    }\n",
       "</style>\n",
       "<table border=\"1\" class=\"dataframe\">\n",
       "  <thead>\n",
       "    <tr style=\"text-align: right;\">\n",
       "      <th></th>\n",
       "      <th>longitude</th>\n",
       "      <th>latitude</th>\n",
       "      <th>housing_median_age</th>\n",
       "      <th>total_rooms</th>\n",
       "      <th>total_bedrooms</th>\n",
       "      <th>population</th>\n",
       "      <th>households</th>\n",
       "      <th>median_income</th>\n",
       "      <th>median_house_value</th>\n",
       "      <th>ocean_proximity</th>\n",
       "    </tr>\n",
       "  </thead>\n",
       "  <tbody>\n",
       "    <tr>\n",
       "      <th>0</th>\n",
       "      <td>-122.23</td>\n",
       "      <td>37.88</td>\n",
       "      <td>41.0</td>\n",
       "      <td>880.0</td>\n",
       "      <td>129.0</td>\n",
       "      <td>322.0</td>\n",
       "      <td>126.0</td>\n",
       "      <td>8.3252</td>\n",
       "      <td>452600.0</td>\n",
       "      <td>NEAR BAY</td>\n",
       "    </tr>\n",
       "    <tr>\n",
       "      <th>1</th>\n",
       "      <td>-122.22</td>\n",
       "      <td>37.86</td>\n",
       "      <td>21.0</td>\n",
       "      <td>7099.0</td>\n",
       "      <td>1106.0</td>\n",
       "      <td>2401.0</td>\n",
       "      <td>1138.0</td>\n",
       "      <td>8.3014</td>\n",
       "      <td>358500.0</td>\n",
       "      <td>NEAR BAY</td>\n",
       "    </tr>\n",
       "    <tr>\n",
       "      <th>2</th>\n",
       "      <td>-122.24</td>\n",
       "      <td>37.85</td>\n",
       "      <td>52.0</td>\n",
       "      <td>1467.0</td>\n",
       "      <td>190.0</td>\n",
       "      <td>496.0</td>\n",
       "      <td>177.0</td>\n",
       "      <td>7.2574</td>\n",
       "      <td>352100.0</td>\n",
       "      <td>NEAR BAY</td>\n",
       "    </tr>\n",
       "    <tr>\n",
       "      <th>3</th>\n",
       "      <td>-122.25</td>\n",
       "      <td>37.85</td>\n",
       "      <td>52.0</td>\n",
       "      <td>1274.0</td>\n",
       "      <td>235.0</td>\n",
       "      <td>558.0</td>\n",
       "      <td>219.0</td>\n",
       "      <td>5.6431</td>\n",
       "      <td>341300.0</td>\n",
       "      <td>NEAR BAY</td>\n",
       "    </tr>\n",
       "    <tr>\n",
       "      <th>4</th>\n",
       "      <td>-122.25</td>\n",
       "      <td>37.85</td>\n",
       "      <td>52.0</td>\n",
       "      <td>1627.0</td>\n",
       "      <td>280.0</td>\n",
       "      <td>565.0</td>\n",
       "      <td>259.0</td>\n",
       "      <td>3.8462</td>\n",
       "      <td>342200.0</td>\n",
       "      <td>NEAR BAY</td>\n",
       "    </tr>\n",
       "  </tbody>\n",
       "</table>\n",
       "</div>"
      ],
      "text/plain": [
       "   longitude  latitude  housing_median_age  total_rooms  total_bedrooms  \\\n",
       "0    -122.23     37.88                41.0        880.0           129.0   \n",
       "1    -122.22     37.86                21.0       7099.0          1106.0   \n",
       "2    -122.24     37.85                52.0       1467.0           190.0   \n",
       "3    -122.25     37.85                52.0       1274.0           235.0   \n",
       "4    -122.25     37.85                52.0       1627.0           280.0   \n",
       "\n",
       "   population  households  median_income  median_house_value ocean_proximity  \n",
       "0       322.0       126.0         8.3252            452600.0        NEAR BAY  \n",
       "1      2401.0      1138.0         8.3014            358500.0        NEAR BAY  \n",
       "2       496.0       177.0         7.2574            352100.0        NEAR BAY  \n",
       "3       558.0       219.0         5.6431            341300.0        NEAR BAY  \n",
       "4       565.0       259.0         3.8462            342200.0        NEAR BAY  "
      ]
     },
     "execution_count": 3,
     "metadata": {},
     "output_type": "execute_result"
    }
   ],
   "source": [
    "df.head()"
   ]
  },
  {
   "cell_type": "code",
   "execution_count": 4,
   "metadata": {},
   "outputs": [],
   "source": [
    "le = LabelEncoder()\n",
    "le.fit(df['ocean_proximity'].unique())\n",
    "df['ocean_proximity'] = le.transform(df['ocean_proximity'])"
   ]
  },
  {
   "cell_type": "code",
   "execution_count": 5,
   "metadata": {},
   "outputs": [
    {
     "data": {
      "text/plain": [
       "array([3, 0, 1, 4, 2])"
      ]
     },
     "execution_count": 5,
     "metadata": {},
     "output_type": "execute_result"
    }
   ],
   "source": [
    "df['ocean_proximity'].unique()"
   ]
  },
  {
   "cell_type": "code",
   "execution_count": 6,
   "metadata": {},
   "outputs": [
    {
     "data": {
      "text/html": [
       "<div>\n",
       "<style scoped>\n",
       "    .dataframe tbody tr th:only-of-type {\n",
       "        vertical-align: middle;\n",
       "    }\n",
       "\n",
       "    .dataframe tbody tr th {\n",
       "        vertical-align: top;\n",
       "    }\n",
       "\n",
       "    .dataframe thead th {\n",
       "        text-align: right;\n",
       "    }\n",
       "</style>\n",
       "<table border=\"1\" class=\"dataframe\">\n",
       "  <thead>\n",
       "    <tr style=\"text-align: right;\">\n",
       "      <th></th>\n",
       "      <th>longitude</th>\n",
       "      <th>latitude</th>\n",
       "      <th>housing_median_age</th>\n",
       "      <th>total_rooms</th>\n",
       "      <th>total_bedrooms</th>\n",
       "      <th>population</th>\n",
       "      <th>households</th>\n",
       "      <th>median_income</th>\n",
       "      <th>median_house_value</th>\n",
       "      <th>ocean_proximity</th>\n",
       "    </tr>\n",
       "  </thead>\n",
       "  <tbody>\n",
       "    <tr>\n",
       "      <th>count</th>\n",
       "      <td>20640</td>\n",
       "      <td>20640</td>\n",
       "      <td>20640</td>\n",
       "      <td>20640</td>\n",
       "      <td>20640</td>\n",
       "      <td>20640</td>\n",
       "      <td>20640</td>\n",
       "      <td>20640</td>\n",
       "      <td>20640</td>\n",
       "      <td>20640</td>\n",
       "    </tr>\n",
       "    <tr>\n",
       "      <th>unique</th>\n",
       "      <td>1</td>\n",
       "      <td>1</td>\n",
       "      <td>1</td>\n",
       "      <td>1</td>\n",
       "      <td>2</td>\n",
       "      <td>1</td>\n",
       "      <td>1</td>\n",
       "      <td>1</td>\n",
       "      <td>1</td>\n",
       "      <td>1</td>\n",
       "    </tr>\n",
       "    <tr>\n",
       "      <th>top</th>\n",
       "      <td>False</td>\n",
       "      <td>False</td>\n",
       "      <td>False</td>\n",
       "      <td>False</td>\n",
       "      <td>False</td>\n",
       "      <td>False</td>\n",
       "      <td>False</td>\n",
       "      <td>False</td>\n",
       "      <td>False</td>\n",
       "      <td>False</td>\n",
       "    </tr>\n",
       "    <tr>\n",
       "      <th>freq</th>\n",
       "      <td>20640</td>\n",
       "      <td>20640</td>\n",
       "      <td>20640</td>\n",
       "      <td>20640</td>\n",
       "      <td>20433</td>\n",
       "      <td>20640</td>\n",
       "      <td>20640</td>\n",
       "      <td>20640</td>\n",
       "      <td>20640</td>\n",
       "      <td>20640</td>\n",
       "    </tr>\n",
       "  </tbody>\n",
       "</table>\n",
       "</div>"
      ],
      "text/plain": [
       "       longitude latitude housing_median_age total_rooms total_bedrooms  \\\n",
       "count      20640    20640              20640       20640          20640   \n",
       "unique         1        1                  1           1              2   \n",
       "top        False    False              False       False          False   \n",
       "freq       20640    20640              20640       20640          20433   \n",
       "\n",
       "       population households median_income median_house_value ocean_proximity  \n",
       "count       20640      20640         20640              20640           20640  \n",
       "unique          1          1             1                  1               1  \n",
       "top         False      False         False              False           False  \n",
       "freq        20640      20640         20640              20640           20640  "
      ]
     },
     "execution_count": 6,
     "metadata": {},
     "output_type": "execute_result"
    }
   ],
   "source": [
    "df.isna().describe()"
   ]
  },
  {
   "cell_type": "markdown",
   "metadata": {},
   "source": [
    "Видим, что в `total_bedrooms` есть NaN значения. Ну я их и заполнил медианными."
   ]
  },
  {
   "cell_type": "code",
   "execution_count": 7,
   "metadata": {},
   "outputs": [],
   "source": [
    "df['total_bedrooms'] = df['total_bedrooms'].fillna(df['total_bedrooms'].median())"
   ]
  },
  {
   "cell_type": "code",
   "execution_count": 8,
   "metadata": {},
   "outputs": [
    {
     "data": {
      "text/html": [
       "<div>\n",
       "<style scoped>\n",
       "    .dataframe tbody tr th:only-of-type {\n",
       "        vertical-align: middle;\n",
       "    }\n",
       "\n",
       "    .dataframe tbody tr th {\n",
       "        vertical-align: top;\n",
       "    }\n",
       "\n",
       "    .dataframe thead th {\n",
       "        text-align: right;\n",
       "    }\n",
       "</style>\n",
       "<table border=\"1\" class=\"dataframe\">\n",
       "  <thead>\n",
       "    <tr style=\"text-align: right;\">\n",
       "      <th></th>\n",
       "      <th>longitude</th>\n",
       "      <th>latitude</th>\n",
       "      <th>housing_median_age</th>\n",
       "      <th>total_rooms</th>\n",
       "      <th>total_bedrooms</th>\n",
       "      <th>population</th>\n",
       "      <th>households</th>\n",
       "      <th>median_income</th>\n",
       "      <th>median_house_value</th>\n",
       "      <th>ocean_proximity</th>\n",
       "    </tr>\n",
       "  </thead>\n",
       "  <tbody>\n",
       "    <tr>\n",
       "      <th>count</th>\n",
       "      <td>20640</td>\n",
       "      <td>20640</td>\n",
       "      <td>20640</td>\n",
       "      <td>20640</td>\n",
       "      <td>20640</td>\n",
       "      <td>20640</td>\n",
       "      <td>20640</td>\n",
       "      <td>20640</td>\n",
       "      <td>20640</td>\n",
       "      <td>20640</td>\n",
       "    </tr>\n",
       "    <tr>\n",
       "      <th>unique</th>\n",
       "      <td>1</td>\n",
       "      <td>1</td>\n",
       "      <td>1</td>\n",
       "      <td>1</td>\n",
       "      <td>1</td>\n",
       "      <td>1</td>\n",
       "      <td>1</td>\n",
       "      <td>1</td>\n",
       "      <td>1</td>\n",
       "      <td>1</td>\n",
       "    </tr>\n",
       "    <tr>\n",
       "      <th>top</th>\n",
       "      <td>False</td>\n",
       "      <td>False</td>\n",
       "      <td>False</td>\n",
       "      <td>False</td>\n",
       "      <td>False</td>\n",
       "      <td>False</td>\n",
       "      <td>False</td>\n",
       "      <td>False</td>\n",
       "      <td>False</td>\n",
       "      <td>False</td>\n",
       "    </tr>\n",
       "    <tr>\n",
       "      <th>freq</th>\n",
       "      <td>20640</td>\n",
       "      <td>20640</td>\n",
       "      <td>20640</td>\n",
       "      <td>20640</td>\n",
       "      <td>20640</td>\n",
       "      <td>20640</td>\n",
       "      <td>20640</td>\n",
       "      <td>20640</td>\n",
       "      <td>20640</td>\n",
       "      <td>20640</td>\n",
       "    </tr>\n",
       "  </tbody>\n",
       "</table>\n",
       "</div>"
      ],
      "text/plain": [
       "       longitude latitude housing_median_age total_rooms total_bedrooms  \\\n",
       "count      20640    20640              20640       20640          20640   \n",
       "unique         1        1                  1           1              1   \n",
       "top        False    False              False       False          False   \n",
       "freq       20640    20640              20640       20640          20640   \n",
       "\n",
       "       population households median_income median_house_value ocean_proximity  \n",
       "count       20640      20640         20640              20640           20640  \n",
       "unique          1          1             1                  1               1  \n",
       "top         False      False         False              False           False  \n",
       "freq        20640      20640         20640              20640           20640  "
      ]
     },
     "execution_count": 8,
     "metadata": {},
     "output_type": "execute_result"
    }
   ],
   "source": [
    "df.isna().describe()"
   ]
  },
  {
   "cell_type": "code",
   "execution_count": 9,
   "metadata": {},
   "outputs": [],
   "source": [
    "y = np.array(df['median_house_value'])\n",
    "X = np.array(df.drop(['median_house_value'], axis=1))"
   ]
  },
  {
   "cell_type": "markdown",
   "metadata": {},
   "source": [
    "## Split to train and validation sets\n",
    "Choose arbitrary `random_seed` and split you data to train and validation parts in proportion 80/20.\n",
    "\n",
    "As a result you should get `X_train`, `X_valid`, `y_train` and `y_valid`"
   ]
  },
  {
   "cell_type": "code",
   "execution_count": 10,
   "metadata": {},
   "outputs": [],
   "source": [
    "RANDOM_SEED = 4118956\n",
    "seed(RANDOM_SEED)"
   ]
  },
  {
   "cell_type": "code",
   "execution_count": 11,
   "metadata": {},
   "outputs": [],
   "source": [
    "X_train, X_valid, y_train, y_valid = train_test_split(X, y, random_state=RANDOM_SEED)"
   ]
  },
  {
   "cell_type": "markdown",
   "metadata": {},
   "source": [
    "# Random Forest Model (3 points)"
   ]
  },
  {
   "cell_type": "markdown",
   "metadata": {},
   "source": [
    "Implement function `learn_rf(...)`\n",
    "\n",
    "**Inputs:**\n",
    "`X_train`, `y_train`, `X_valid`, `y_valid`, `num_trees`\n",
    "\n",
    "**Outputs:**\n",
    "* `importance` - `np.array` with feature importances\n",
    "* `pred_train` - `np.array` with predictions of RF on train set\n",
    "* `pred_train_ind` - `np.array` with predictions of each individual trees on train set\n",
    "* `pred_valid` - `np.array` with predictions of RF on validation set\n",
    "* `pred_valid_ind` - `np.array` with predictions of each individual trees on validation set"
   ]
  },
  {
   "cell_type": "markdown",
   "metadata": {},
   "source": [
    "Train Random Forest Regression models with 10, 20, 30, 50, 100 and 200 trees.\n",
    "\n",
    "* Show feature names and their importance (at any number of trees)\n",
    "* For every random forest model compare train- and validation- errors’ variance of individual trees and ensemble model. Explain your observations."
   ]
  },
  {
   "cell_type": "code",
   "execution_count": 21,
   "metadata": {},
   "outputs": [],
   "source": [
    "def learn_rf(X_train, y_train, X_valid, y_valid, num_trees):\n",
    "    rf = RandomForestRegressor(max_depth=2, random_state=RANDOM_SEED)\n",
    "    rf.fit(X_train, y_train)\n",
    "    return {\n",
    "        'importance': rf.feature_importances_,\n",
    "        'pred_train': rf.predict(X_train),\n",
    "        'pred_train_ind': np.array(map(lambda tree: tree.predict(X_train), rf.estimators_)),\n",
    "        'pred_valid': rf.predict(X_valid),\n",
    "        'pred_valid_ind': np.array(map(lambda tree: tree.predict(X_valid), rf.estimators_))\n",
    "    }"
   ]
  },
  {
   "cell_type": "code",
   "execution_count": 22,
   "metadata": {},
   "outputs": [
    {
     "data": {
      "text/plain": [
       "{'importance': array([0., 0., 0., 0., 0., 0., 0., 1., 0.]),\n",
       " 'pred_train': array([293612.84395597, 135206.72464843, 135206.72464843, ...,\n",
       "        208569.16703957, 135206.72464843, 135206.72464843]),\n",
       " 'pred_train_ind': array([[301880.56564141, 130054.30122794, 130054.30122794, ...,\n",
       "         204823.63179856, 130054.30122794, 130054.30122794],\n",
       "        [291658.78243059, 135587.37296075, 135587.37296075, ...,\n",
       "         208234.98393036, 135587.37296075, 135587.37296075],\n",
       "        [304676.62345448, 129582.47863924, 129582.47863924, ...,\n",
       "         204178.1755693 , 129582.47863924, 129582.47863924],\n",
       "        ...,\n",
       "        [289968.70703979, 135663.0729783 , 135663.0729783 , ...,\n",
       "         208451.93306957, 135663.0729783 , 135663.0729783 ],\n",
       "        [293712.42301112, 136847.84258675, 136847.84258675, ...,\n",
       "         210154.00631939, 136847.84258675, 136847.84258675],\n",
       "        [287289.38802337, 134671.48646497, 134671.48646497, ...,\n",
       "         208683.32527881, 134671.48646497, 134671.48646497]]),\n",
       " 'pred_valid': array([208569.16703957, 208569.16703957, 293612.84395597, ...,\n",
       "        293612.84395597, 293612.84395597, 208569.16703957]),\n",
       " 'pred_valid_ind': array([[204823.63179856, 204823.63179856, 301880.56564141, ...,\n",
       "         301880.56564141, 301880.56564141, 204823.63179856],\n",
       "        [208234.98393036, 208234.98393036, 291658.78243059, ...,\n",
       "         291658.78243059, 291658.78243059, 208234.98393036],\n",
       "        [204178.1755693 , 204178.1755693 , 304676.62345448, ...,\n",
       "         304676.62345448, 304676.62345448, 204178.1755693 ],\n",
       "        ...,\n",
       "        [208451.93306957, 208451.93306957, 289968.70703979, ...,\n",
       "         289968.70703979, 289968.70703979, 208451.93306957],\n",
       "        [210154.00631939, 210154.00631939, 293712.42301112, ...,\n",
       "         293712.42301112, 293712.42301112, 210154.00631939],\n",
       "        [208683.32527881, 208683.32527881, 287289.38802337, ...,\n",
       "         287289.38802337, 287289.38802337, 208683.32527881]])}"
      ]
     },
     "execution_count": 22,
     "metadata": {},
     "output_type": "execute_result"
    }
   ],
   "source": [
    "learn_rf(X_train, y_train, X_valid, y_valid, 5)"
   ]
  },
  {
   "cell_type": "code",
   "execution_count": 16,
   "metadata": {},
   "outputs": [
    {
     "data": {
      "text/plain": [
       "array([240900.,  83900., 231700., ..., 165300.,  62000.,  64600.])"
      ]
     },
     "execution_count": 16,
     "metadata": {},
     "output_type": "execute_result"
    }
   ],
   "source": [
    "y_train"
   ]
  },
  {
   "cell_type": "code",
   "execution_count": null,
   "metadata": {},
   "outputs": [],
   "source": []
  },
  {
   "cell_type": "markdown",
   "metadata": {},
   "source": [
    "# Gradient Boosing Model (3 points)"
   ]
  },
  {
   "cell_type": "markdown",
   "metadata": {},
   "source": [
    "Implement function `learn_gbm(...)`\n",
    "\n",
    "**Inputs:**\n",
    "`X_train`, `y_train`, `X_valid`, `y_valid`, `num_stages`, `learning_rate`.\n",
    "\n",
    "**Outputs:**\n",
    "* `importance` - `np.array` with feature importances\n",
    "* `pred_train` - `np.array` with **final** predictions of GBM on train set\n",
    "* `pred_train_staged` - `np.array` with **staged** predictions on train set (after each new tree)\n",
    "* `pred_valid` - `np.array` with **final** predictions of GBM on validation set\n",
    "* `pred_valid_staged` - `np.array` with **staged** predictions on validation set (after each new tree) \n",
    "\n",
    "Useful functions and classes: `GradientBoostingRegressor.staged_predict()`\n",
    "\n",
    "You are highly encouraged to use advanced libraries of gradient boosting instead of sklearn implementation, like [XGBoost](https://github.com/dmlc/xgboost), [CatBoost](https://github.com/catboost/catboost) or [LightGBM](https://github.com/Microsoft/LightGBM). \n",
    "\n",
    "So pick one, make sure you have installed the last version, and use it in this task."
   ]
  },
  {
   "cell_type": "markdown",
   "metadata": {},
   "source": [
    "Use `learn_gbt` function to train Gradient Boosting Tree Regression model with `1000` trees \n",
    "\n",
    "* Try to pick 3 values of  `learning_rate` for \n",
    "    * Aggresive learning - error on train set is getting low, but validation error decreases only on first steps and goes up afterwards\n",
    "    * Slow learning - error on train and validation sets is getting low VERY slowly\n",
    "    * Healthy learning - error on train and validation sets is getting low and optimal number of iterations (where validation error (almost) stops decreasing) is somewhere between 800 and 1000.\n",
    "* Show feature names and importance (for the latter `learning_rate` value). Are importances different  from Random Forest case? Why?"
   ]
  },
  {
   "cell_type": "code",
   "execution_count": null,
   "metadata": {
    "collapsed": true
   },
   "outputs": [],
   "source": [
    "## Your Code Here"
   ]
  },
  {
   "cell_type": "markdown",
   "metadata": {},
   "source": [
    "# Linear Regression with Random Trees Embedding (3 points)"
   ]
  },
  {
   "cell_type": "markdown",
   "metadata": {},
   "source": [
    "Set baseline pipeline with the following steps:\n",
    "\n",
    "* FeatureUnion of:\n",
    "    * OneHotEncoding of categorical features\n",
    "    * StandartScaling of other features\n",
    "* Linear Regression\n",
    "\n",
    "Fit on (`X_train`, `y_train`) and predict on (`X_valid`, `y_valid`) - you should get `pred_valid_base`."
   ]
  },
  {
   "cell_type": "code",
   "execution_count": null,
   "metadata": {
    "collapsed": true
   },
   "outputs": [],
   "source": [
    "## Your Code Here"
   ]
  },
  {
   "cell_type": "markdown",
   "metadata": {},
   "source": [
    "Implement function `learn_lm(...)` which will learn the following pipeline:\n",
    "* RandomTreesEmbedding\n",
    "* LinearRegression\n",
    "\n",
    "**Inputs:**\n",
    "`X_train`, `y_train`, `X_valid`, `y_valid`, `num_trees`, `max_depth`.\n",
    "\n",
    "**Outputs:**\n",
    "* `pred_valid` - `np.array` with predictions on validation set\n",
    "\n",
    "Useful functions and classes: [RandomTreesEmbedding](http://scikit-learn.org/stable/modules/generated/sklearn.ensemble.RandomTreesEmbedding.html#sklearn.ensemble.RandomTreesEmbedding)\n",
    "\n",
    "Run it with various `max_depth` and `num_trees`. Compare this pipeline with base pipeline on validation set as RMSE(this_pipeline)/RMSE(base_pipeline)."
   ]
  },
  {
   "cell_type": "code",
   "execution_count": null,
   "metadata": {
    "collapsed": true
   },
   "outputs": [],
   "source": [
    "## Your Code Here"
   ]
  }
 ],
 "metadata": {
  "anaconda-cloud": {},
  "kernelspec": {
   "display_name": "Python 2",
   "language": "python",
   "name": "python2"
  },
  "language_info": {
   "codemirror_mode": {
    "name": "ipython",
    "version": 2
   },
   "file_extension": ".py",
   "mimetype": "text/x-python",
   "name": "python",
   "nbconvert_exporter": "python",
   "pygments_lexer": "ipython2",
   "version": "2.7.15"
  },
  "toc": {
   "colors": {
    "hover_highlight": "#DAA520",
    "navigate_num": "#000000",
    "navigate_text": "#333333",
    "running_highlight": "#FF0000",
    "selected_highlight": "#FFD700",
    "sidebar_border": "#EEEEEE",
    "wrapper_background": "#FFFFFF"
   },
   "moveMenuLeft": true,
   "nav_menu": {
    "height": "235px",
    "width": "253px"
   },
   "navigate_menu": true,
   "number_sections": false,
   "sideBar": true,
   "threshold": 4,
   "toc_cell": false,
   "toc_section_display": "block",
   "toc_window_display": true,
   "widenNotebook": false
  }
 },
 "nbformat": 4,
 "nbformat_minor": 2
}
